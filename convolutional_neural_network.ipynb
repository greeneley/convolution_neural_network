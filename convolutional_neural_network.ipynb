{
  "nbformat": 4,
  "nbformat_minor": 0,
  "metadata": {
    "colab": {
      "name": "convolutional_neural_network.ipynb",
      "version": "0.3.2",
      "provenance": []
    },
    "kernelspec": {
      "name": "python3",
      "display_name": "Python 3"
    },
    "accelerator": "GPU"
  },
  "cells": [
    {
      "cell_type": "code",
      "metadata": {
        "id": "sVU20qxLL9MZ",
        "colab_type": "code",
        "colab": {
          "base_uri": "https://localhost:8080/",
          "height": 35
        },
        "outputId": "8a661bd1-5856-4aa6-d3de-0d8da10e8de0"
      },
      "source": [
        "# Add necesary library\n",
        "import numpy as np\n",
        "import matplotlib.pyplot as plt\n",
        "from keras.models import Sequential\n",
        "from keras.layers import Dense, Dropout, Activation, Flatten\n",
        "from keras.layers import Conv2D, MaxPooling2D\n",
        "from keras.utils import np_utils\n",
        "from keras.datasets import mnist"
      ],
      "execution_count": 2,
      "outputs": [
        {
          "output_type": "stream",
          "text": [
            "Using TensorFlow backend.\n"
          ],
          "name": "stderr"
        }
      ]
    },
    {
      "cell_type": "code",
      "metadata": {
        "id": "kH_OxLjZL_HM",
        "colab_type": "code",
        "colab": {
          "base_uri": "https://localhost:8080/",
          "height": 72
        },
        "outputId": "40adbeca-4e2d-428b-e377-48b1e48df81d"
      },
      "source": [
        "(X_train, y_train), (X_test, y_test) = mnist.load_data()\n",
        "X_val, y_val = X_train[50000:60000,:], y_train[50000:60000]\n",
        "X_train, y_train = X_train[:50000,:], y_train[:50000]\n",
        "print(X_train.shape)"
      ],
      "execution_count": 3,
      "outputs": [
        {
          "output_type": "stream",
          "text": [
            "Downloading data from https://s3.amazonaws.com/img-datasets/mnist.npz\n",
            "11493376/11490434 [==============================] - 1s 0us/step\n",
            "(50000, 28, 28)\n"
          ],
          "name": "stdout"
        }
      ]
    },
    {
      "cell_type": "code",
      "metadata": {
        "id": "hJ7hxURLM0N9",
        "colab_type": "code",
        "colab": {}
      },
      "source": [
        "# 3. Reshape lai du lieu cho dung kich thuoc bo vao keras\n",
        "X_train = X_train.reshape(X_train.shape[0], 28, 28, 1)\n",
        "X_val = X_val.reshape(X_val.shape[0], 28, 28, 1)\n",
        "X_test = X_test.reshape(X_test.shape[0], 28, 28, 1)"
      ],
      "execution_count": 0,
      "outputs": []
    },
    {
      "cell_type": "code",
      "metadata": {
        "id": "0KX8Dkh5Nb5K",
        "colab_type": "code",
        "colab": {
          "base_uri": "https://localhost:8080/",
          "height": 54
        },
        "outputId": "bfd99d1a-19c7-4d19-f44b-d389e1003dda"
      },
      "source": [
        "# 4. One hot encoding label y\n",
        "Y_train = np_utils.to_categorical(y_train, 10)\n",
        "Y_val = np_utils.to_categorical(y_val, 10)\n",
        "Y_test = np_utils.to_categorical(y_test, 10)\n",
        "print(\" Du lieu Y ban dau :\", y_train[1])\n",
        "print(\" Du liey Y sau one-hot encoding: \", Y_train[1])"
      ],
      "execution_count": 5,
      "outputs": [
        {
          "output_type": "stream",
          "text": [
            " Du lieu Y ban dau : 0\n",
            " Du liey Y sau one-hot encoding:  [1. 0. 0. 0. 0. 0. 0. 0. 0. 0.]\n"
          ],
          "name": "stdout"
        }
      ]
    },
    {
      "cell_type": "code",
      "metadata": {
        "id": "aqocs2xxNziw",
        "colab_type": "code",
        "colab": {}
      },
      "source": [
        ""
      ],
      "execution_count": 0,
      "outputs": []
    },
    {
      "cell_type": "markdown",
      "metadata": {
        "id": "hz5cpis-N6iN",
        "colab_type": "text"
      },
      "source": [
        "Buoc nay la xay dung model de training"
      ]
    },
    {
      "cell_type": "code",
      "metadata": {
        "id": "pneoPKptN9fW",
        "colab_type": "code",
        "colab": {
          "base_uri": "https://localhost:8080/",
          "height": 72
        },
        "outputId": "594383c2-a548-4d4d-a398-456262e019da"
      },
      "source": [
        "# 5. Define the model:\n",
        "model = Sequential() # input -> CONV -> POOL -> CONV -> POOL -> FLATTEN -> FC -> OUTPUT\n",
        "model.add(Conv2D(32, (3, 3), activation='sigmoid', input_shape=(28, 28, 1)))\n",
        "\n",
        "# Add Convolutional Layer\n",
        "model.add(Conv2D(32, (3, 3), activation='sigmoid'))\n",
        "# Add Max Pooling Layer\n",
        "model.add(MaxPooling2D(pool_size=(2, 2)))\n",
        "# Flatten layer from tensor to vector\n",
        "model.add(Flatten())\n",
        "# Add Fully Connected Layer with 128 nodes and sigmoid\n",
        "model.add(Dense(128, activation='sigmoid'))\n",
        "# Outpute layer with 10 nodes and apply softmax function to change the distribution\n",
        "model.add(Dense(10, activation='softmax'))"
      ],
      "execution_count": 6,
      "outputs": [
        {
          "output_type": "stream",
          "text": [
            "WARNING:tensorflow:From /usr/local/lib/python3.6/dist-packages/tensorflow/python/framework/op_def_library.py:263: colocate_with (from tensorflow.python.framework.ops) is deprecated and will be removed in a future version.\n",
            "Instructions for updating:\n",
            "Colocations handled automatically by placer.\n"
          ],
          "name": "stdout"
        }
      ]
    },
    {
      "cell_type": "code",
      "metadata": {
        "id": "fxJZNG05PHQ0",
        "colab_type": "code",
        "colab": {}
      },
      "source": [
        "# 6. Compile model\n",
        "model.compile(loss='categorical_crossentropy', optimizer='adam', metrics=['accuracy'])"
      ],
      "execution_count": 0,
      "outputs": []
    },
    {
      "cell_type": "code",
      "metadata": {
        "id": "OCq9wWFxPU0J",
        "colab_type": "code",
        "colab": {
          "base_uri": "https://localhost:8080/",
          "height": 458
        },
        "outputId": "1fa73daa-206e-4f8c-85cb-1498bf8fa8d1"
      },
      "source": [
        "# 7. Thuc hien train model voi data\n",
        "H = model.fit(X_train, Y_train, validation_data=(X_val, Y_val),\n",
        "          batch_size=32, epochs=10, verbose=1)"
      ],
      "execution_count": 8,
      "outputs": [
        {
          "output_type": "stream",
          "text": [
            "WARNING:tensorflow:From /usr/local/lib/python3.6/dist-packages/tensorflow/python/ops/math_ops.py:3066: to_int32 (from tensorflow.python.ops.math_ops) is deprecated and will be removed in a future version.\n",
            "Instructions for updating:\n",
            "Use tf.cast instead.\n",
            "Train on 50000 samples, validate on 10000 samples\n",
            "Epoch 1/10\n",
            "50000/50000 [==============================] - 19s 375us/step - loss: 0.2829 - acc: 0.9190 - val_loss: 0.0638 - val_acc: 0.9831\n",
            "Epoch 2/10\n",
            "50000/50000 [==============================] - 14s 280us/step - loss: 0.0559 - acc: 0.9843 - val_loss: 0.0586 - val_acc: 0.9834\n",
            "Epoch 3/10\n",
            "50000/50000 [==============================] - 14s 280us/step - loss: 0.0348 - acc: 0.9895 - val_loss: 0.0458 - val_acc: 0.9864\n",
            "Epoch 4/10\n",
            "50000/50000 [==============================] - 14s 279us/step - loss: 0.0240 - acc: 0.9930 - val_loss: 0.0413 - val_acc: 0.9884\n",
            "Epoch 5/10\n",
            "50000/50000 [==============================] - 14s 281us/step - loss: 0.0164 - acc: 0.9956 - val_loss: 0.0453 - val_acc: 0.9863\n",
            "Epoch 6/10\n",
            "50000/50000 [==============================] - 14s 283us/step - loss: 0.0125 - acc: 0.9963 - val_loss: 0.0398 - val_acc: 0.9878\n",
            "Epoch 7/10\n",
            "50000/50000 [==============================] - 14s 281us/step - loss: 0.0076 - acc: 0.9980 - val_loss: 0.0381 - val_acc: 0.9891\n",
            "Epoch 8/10\n",
            "50000/50000 [==============================] - 14s 281us/step - loss: 0.0053 - acc: 0.9987 - val_loss: 0.0377 - val_acc: 0.9890\n",
            "Epoch 9/10\n",
            "50000/50000 [==============================] - 14s 278us/step - loss: 0.0051 - acc: 0.9988 - val_loss: 0.0419 - val_acc: 0.9881\n",
            "Epoch 10/10\n",
            "50000/50000 [==============================] - 14s 278us/step - loss: 0.0024 - acc: 0.9996 - val_loss: 0.0374 - val_acc: 0.9900\n"
          ],
          "name": "stdout"
        }
      ]
    },
    {
      "cell_type": "code",
      "metadata": {
        "id": "ixk75nQ9PeEM",
        "colab_type": "code",
        "colab": {
          "base_uri": "https://localhost:8080/",
          "height": 313
        },
        "outputId": "4bbad41f-bc01-438a-bd5f-c5b79045553a"
      },
      "source": [
        "# 8. Data visualition\n",
        "fig = plt.figure()\n",
        "numOfEpoch = 10\n",
        "plt.plot(np.arange(0, numOfEpoch), H.history['loss'], label='training loss')\n",
        "plt.plot(np.arange(0, numOfEpoch), H.history['val_loss'], label='validation loss')\n",
        "plt.plot(np.arange(0, numOfEpoch), H.history['acc'], label='accuracy')\n",
        "plt.plot(np.arange(0, numOfEpoch), H.history['val_acc'], label='validation accuracy')\n",
        "plt.title('Accuracy and Loss')\n",
        "plt.xlabel('Epoch')\n",
        "plt.ylabel('Loss|Accuracy')\n",
        "plt.legend()"
      ],
      "execution_count": 9,
      "outputs": [
        {
          "output_type": "execute_result",
          "data": {
            "text/plain": [
              "<matplotlib.legend.Legend at 0x7f5e93b64c18>"
            ]
          },
          "metadata": {
            "tags": []
          },
          "execution_count": 9
        },
        {
          "output_type": "display_data",
          "data": {
            "image/png": "[encoded data removed]",
            "text/plain": [
              "<Figure size 432x288 with 1 Axes>"
            ]
          },
          "metadata": {
            "tags": []
          }
        }
      ]
    },
    {
      "cell_type": "code",
      "metadata": {
        "id": "oYx6pVJ_Q7WO",
        "colab_type": "code",
        "colab": {
          "base_uri": "https://localhost:8080/",
          "height": 35
        },
        "outputId": "ea8f0a68-3f0f-4fd2-ec38-119fd6745699"
      },
      "source": [
        "# 9. Prediction model with test datasets\n",
        "score = model.evaluate(X_test, Y_test, verbose=0)\n",
        "print(score)"
      ],
      "execution_count": 12,
      "outputs": [
        {
          "output_type": "stream",
          "text": [
            "[0.03459913683671257, 0.9892]\n"
          ],
          "name": "stdout"
        }
      ]
    },
    {
      "cell_type": "code",
      "metadata": {
        "id": "tl1us1caRSPQ",
        "colab_type": "code",
        "colab": {
          "base_uri": "https://localhost:8080/",
          "height": 287
        },
        "outputId": "87b9ee71-dc88-4742-e685-c12c52f6876c"
      },
      "source": [
        "plt.imshow(X_test[-1].reshape(28, 28), cmap='gray')\n",
        "y_predict = model.predict(X_test[-1].reshape(1, 28, 28, 1))\n",
        "print('Gia tri du doan: ', np.argmax(y_predict))"
      ],
      "execution_count": 21,
      "outputs": [
        {
          "output_type": "stream",
          "text": [
            "Gia tri du doan:  6\n"
          ],
          "name": "stdout"
        },
        {
          "output_type": "display_data",
          "data": {
            "image/png": "[encoded data removed]",
            "text/plain": [
              "<Figure size 432x288 with 1 Axes>"
            ]
          },
          "metadata": {
            "tags": []
          }
        }
      ]
    },
    {
      "cell_type": "code",
      "metadata": {
        "id": "eLi_tgCJRqaR",
        "colab_type": "code",
        "colab": {}
      },
      "source": [
        ""
      ],
      "execution_count": 0,
      "outputs": []
    }
  ]
}